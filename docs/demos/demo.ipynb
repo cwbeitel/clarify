{
 "cells": [
  {
   "cell_type": "markdown",
   "metadata": {},
   "source": [
    "# Project Clarify ML\n",
    "## Train / deploy / query demo"
   ]
  },
  {
   "cell_type": "markdown",
   "metadata": {},
   "source": [
    "A walkthrough of model training (which includes export on completion), serving, query of the served model, and hyperparameter tuning with Katib; a synopsis of work done in Q1."
   ]
  },
  {
   "cell_type": "markdown",
   "metadata": {},
   "source": [
    "## Setup"
   ]
  },
  {
   "cell_type": "code",
   "execution_count": 1,
   "metadata": {},
   "outputs": [
    {
     "name": "stdout",
     "output_type": "stream",
     "text": [
      "\n",
      "WARNING: The TensorFlow contrib module will not be included in TensorFlow 2.0.\n",
      "For more information, please see:\n",
      "  * https://github.com/tensorflow/community/blob/master/rfcs/20180907-contrib-sunset.md\n",
      "  * https://github.com/tensorflow/addons\n",
      "If you depend on functionality not listed there, please file an issue.\n",
      "\n"
     ]
    }
   ],
   "source": [
    "\n",
    "import tensorflow as tf\n",
    "\n",
    "tfe = tf.contrib.eager\n",
    "tfe.enable_eager_execution()\n",
    "Modes = tf.estimator.ModeKeys  # pylint: disable=invalid-name    \n"
   ]
  },
  {
   "cell_type": "markdown",
   "metadata": {},
   "source": [
    "## Train"
   ]
  },
  {
   "cell_type": "markdown",
   "metadata": {},
   "source": [
    "First we'll configure and launch a TFJob to train our model on Kubeflow using TPUs with the following call to `configure_experiment`."
   ]
  },
  {
   "cell_type": "code",
   "execution_count": 3,
   "metadata": {},
   "outputs": [],
   "source": [
    "\n",
    "from pcml.launcher.experiment import configure_experiment\n",
    "\n",
    "experiment = configure_experiment(\n",
    "  base_name=\"test_e2e_tpu_ut\",\n",
    "  problem=\"multi_modal_imaging_multi_problem\",\n",
    "  model=\"multi_modal_model_ut\",\n",
    "  hparams_set=\"multi_modal_model_tiny_v2\",\n",
    "  num_train_steps=300,\n",
    "  num_gpu_per_worker=0,\n",
    "  trainer_memory=\"7Gi\",\n",
    "  trainer_cpu=4,\n",
    "  extra_hparams={\"batch_size\": 32},\n",
    "  app_root=\"/home/jovyan/work/pcml\",\n",
    "  base_image=\"tensorflow/tensorflow:1.13.1-py3\",\n",
    "  schedule=\"train\",\n",
    "  data_dir=\"gs://clarify-models-us-central1/experiments/example-scaleup\",\n",
    "  remote_base=\"gs://clarify-models-us-central1/experiments/example-scaleup\",\n",
    "  use_tpu=True,\n",
    "  num_tpu_cores=8,\n",
    "  tpu_tf_version=\"1.13\",\n",
    "  selector_labels={\"type\": \"tpu-host\"})\n",
    "\n",
    "create_response, job_dict = experiment.batch_run()\n"
   ]
  },
  {
   "cell_type": "code",
   "execution_count": 2,
   "metadata": {},
   "outputs": [],
   "source": [
    "\n",
    "# TODO: Make it way easier to look up the ckpt dir\n",
    "\n",
    "#experiment.spec[\"tfReplicaSpecs\"][\"MASTER\"][\"template\"][\"spec\"][\"containers\"][0].args\n",
    "\n",
    "ckpt_dir = \"gs://clarify-models-us-central1/experiments/example-scaleup/test-e2e-tpu-ut-j0325-1554-d40c/output\"\n"
   ]
  },
  {
   "cell_type": "markdown",
   "metadata": {},
   "source": [
    "## Serve"
   ]
  },
  {
   "cell_type": "code",
   "execution_count": 33,
   "metadata": {},
   "outputs": [
    {
     "name": "stdout",
     "output_type": "stream",
     "text": [
      "INFO:tensorflow:Calling command: /home/jovyan/work/pcml/clarify/ks generate tf-serving-service multi-modal-model-ut-service-d110\n"
     ]
    },
    {
     "name": "stderr",
     "output_type": "stream",
     "text": [
      "WARNING: Logging before flag parsing goes to stderr.\n",
      "I0325 16:22:02.235029 140472469419840 serving_utils.py:51] Calling command: /home/jovyan/work/pcml/clarify/ks generate tf-serving-service multi-modal-model-ut-service-d110\n"
     ]
    },
    {
     "name": "stdout",
     "output_type": "stream",
     "text": [
      "INFO:tensorflow:Calling command: /home/jovyan/work/pcml/clarify/ks param set multi-modal-model-ut-service-d110 modelName multi-modal-model-ut\n"
     ]
    },
    {
     "name": "stderr",
     "output_type": "stream",
     "text": [
      "I0325 16:22:02.795305 140472469419840 serving_utils.py:51] Calling command: /home/jovyan/work/pcml/clarify/ks param set multi-modal-model-ut-service-d110 modelName multi-modal-model-ut\n"
     ]
    },
    {
     "name": "stdout",
     "output_type": "stream",
     "text": [
      "INFO:tensorflow:Calling command: /home/jovyan/work/pcml/clarify/ks param set multi-modal-model-ut-service-d110 trafficRule v1:100\n"
     ]
    },
    {
     "name": "stderr",
     "output_type": "stream",
     "text": [
      "I0325 16:22:02.996902 140472469419840 serving_utils.py:51] Calling command: /home/jovyan/work/pcml/clarify/ks param set multi-modal-model-ut-service-d110 trafficRule v1:100\n"
     ]
    },
    {
     "name": "stdout",
     "output_type": "stream",
     "text": [
      "INFO:tensorflow:Calling command: /home/jovyan/work/pcml/clarify/ks param set multi-modal-model-ut-service-d110 serviceType ClusterIP\n"
     ]
    },
    {
     "name": "stderr",
     "output_type": "stream",
     "text": [
      "I0325 16:22:03.129825 140472469419840 serving_utils.py:51] Calling command: /home/jovyan/work/pcml/clarify/ks param set multi-modal-model-ut-service-d110 serviceType ClusterIP\n"
     ]
    },
    {
     "name": "stdout",
     "output_type": "stream",
     "text": [
      "INFO:tensorflow:Calling command: /home/jovyan/work/pcml/clarify/ks generate tf-serving-deployment-gcp multi-modal-model-ut-d110\n"
     ]
    },
    {
     "name": "stderr",
     "output_type": "stream",
     "text": [
      "I0325 16:22:03.257907 140472469419840 serving_utils.py:51] Calling command: /home/jovyan/work/pcml/clarify/ks generate tf-serving-deployment-gcp multi-modal-model-ut-d110\n"
     ]
    },
    {
     "name": "stdout",
     "output_type": "stream",
     "text": [
      "INFO:tensorflow:Calling command: /home/jovyan/work/pcml/clarify/ks param set multi-modal-model-ut-d110 modelName multi-modal-model-ut\n"
     ]
    },
    {
     "name": "stderr",
     "output_type": "stream",
     "text": [
      "I0325 16:22:03.407409 140472469419840 serving_utils.py:51] Calling command: /home/jovyan/work/pcml/clarify/ks param set multi-modal-model-ut-d110 modelName multi-modal-model-ut\n"
     ]
    },
    {
     "name": "stdout",
     "output_type": "stream",
     "text": [
      "INFO:tensorflow:Calling command: /home/jovyan/work/pcml/clarify/ks param set multi-modal-model-ut-d110 versionName v1\n"
     ]
    },
    {
     "name": "stderr",
     "output_type": "stream",
     "text": [
      "I0325 16:22:03.561015 140472469419840 serving_utils.py:51] Calling command: /home/jovyan/work/pcml/clarify/ks param set multi-modal-model-ut-d110 versionName v1\n"
     ]
    },
    {
     "name": "stdout",
     "output_type": "stream",
     "text": [
      "INFO:tensorflow:Calling command: /home/jovyan/work/pcml/clarify/ks param set multi-modal-model-ut-d110 modelBasePath gs://clarify-models-us-central1/experiments/example-scaleup/test-e2e-tpu-ut-j0325-1554-d40c/output/export\n"
     ]
    },
    {
     "name": "stderr",
     "output_type": "stream",
     "text": [
      "I0325 16:22:03.679179 140472469419840 serving_utils.py:51] Calling command: /home/jovyan/work/pcml/clarify/ks param set multi-modal-model-ut-d110 modelBasePath gs://clarify-models-us-central1/experiments/example-scaleup/test-e2e-tpu-ut-j0325-1554-d40c/output/export\n"
     ]
    },
    {
     "name": "stdout",
     "output_type": "stream",
     "text": [
      "INFO:tensorflow:Calling command: /home/jovyan/work/pcml/clarify/ks param set multi-modal-model-ut-d110 gcpCredentialSecretName user-gcp-sa\n"
     ]
    },
    {
     "name": "stderr",
     "output_type": "stream",
     "text": [
      "I0325 16:22:03.800369 140472469419840 serving_utils.py:51] Calling command: /home/jovyan/work/pcml/clarify/ks param set multi-modal-model-ut-d110 gcpCredentialSecretName user-gcp-sa\n"
     ]
    },
    {
     "name": "stdout",
     "output_type": "stream",
     "text": [
      "INFO:tensorflow:Calling command: /home/jovyan/work/pcml/clarify/ks param set multi-modal-model-ut-d110 injectIstio true\n"
     ]
    },
    {
     "name": "stderr",
     "output_type": "stream",
     "text": [
      "I0325 16:22:03.922029 140472469419840 serving_utils.py:51] Calling command: /home/jovyan/work/pcml/clarify/ks param set multi-modal-model-ut-d110 injectIstio true\n"
     ]
    },
    {
     "name": "stdout",
     "output_type": "stream",
     "text": [
      "INFO:tensorflow:Calling command: /home/jovyan/work/pcml/clarify/ks env set default\n"
     ]
    },
    {
     "name": "stderr",
     "output_type": "stream",
     "text": [
      "I0325 16:22:04.054376 140472469419840 serving_utils.py:51] Calling command: /home/jovyan/work/pcml/clarify/ks env set default\n"
     ]
    },
    {
     "name": "stdout",
     "output_type": "stream",
     "text": [
      "INFO:tensorflow:Calling command: /home/jovyan/work/pcml/clarify/ks apply default -c multi-modal-model-ut-service-d110\n"
     ]
    },
    {
     "name": "stderr",
     "output_type": "stream",
     "text": [
      "I0325 16:22:04.169717 140472469419840 serving_utils.py:51] Calling command: /home/jovyan/work/pcml/clarify/ks apply default -c multi-modal-model-ut-service-d110\n"
     ]
    },
    {
     "name": "stdout",
     "output_type": "stream",
     "text": [
      "INFO:tensorflow:Calling command: /home/jovyan/work/pcml/clarify/ks apply default -c multi-modal-model-ut-d110\n"
     ]
    },
    {
     "name": "stderr",
     "output_type": "stream",
     "text": [
      "I0325 16:22:14.068187 140472469419840 serving_utils.py:51] Calling command: /home/jovyan/work/pcml/clarify/ks apply default -c multi-modal-model-ut-d110\n"
     ]
    }
   ],
   "source": [
    "\n",
    "import os\n",
    "from pcml.serving_utils import serve_model\n",
    "\n",
    "serve_model(ks_path=\"/home/jovyan/work/pcml/clarify/ks\",\n",
    "            model_name=\"multi_modal_model_ut\",\n",
    "            model_export_path=os.path.join(ckpt_dir, \"export\"),\n",
    "            kf_app_path=\"/home/jovyan/work/pcml/clarify/v0.4.1/clarify/ks_app/\")\n"
   ]
  },
  {
   "cell_type": "code",
   "execution_count": 35,
   "metadata": {},
   "outputs": [
    {
     "name": "stdout",
     "output_type": "stream",
     "text": [
      "multi-modal-model-ut-d110-6cd459ddb6-9ljv4                1/1       Running     0          19s\n"
     ]
    }
   ],
   "source": [
    "!kubectl get pods | grep multi-modal-model-ut"
   ]
  },
  {
   "cell_type": "markdown",
   "metadata": {},
   "source": [
    "## Query"
   ]
  },
  {
   "cell_type": "markdown",
   "metadata": {},
   "source": [
    "#### Proxy"
   ]
  },
  {
   "cell_type": "code",
   "execution_count": 2,
   "metadata": {},
   "outputs": [],
   "source": [
    "# For now I don't have IAP working so we need to proxy the served port of the\n",
    "# remote machine to localhost in order to be able to make a query i.e.\n",
    "#!kubectl port-forward multi-modal-model-ut-d110-6cd459ddb6-9ljv4 9000:9000\n",
    "# Needs to be run some other way, ! can't be used to launch a bg process"
   ]
  },
  {
   "cell_type": "code",
   "execution_count": 3,
   "metadata": {},
   "outputs": [],
   "source": [
    "server = \"localhost:9000\""
   ]
  },
  {
   "cell_type": "markdown",
   "metadata": {},
   "source": [
    "#### Construct a dummy query"
   ]
  },
  {
   "cell_type": "code",
   "execution_count": 4,
   "metadata": {},
   "outputs": [
    {
     "name": "stdout",
     "output_type": "stream",
     "text": [
      "INFO:tensorflow:Entry Point [tensor2tensor.envs.tic_tac_toe_env:TicTacToeEnv] registered with id [T2TEnv-TicTacToeEnv-v0]\n"
     ]
    }
   ],
   "source": [
    "\n",
    "from pcml.data_generators import mmimp\n"
   ]
  },
  {
   "cell_type": "code",
   "execution_count": 16,
   "metadata": {},
   "outputs": [],
   "source": [
    "\n",
    "template = mmimp.MultiModalImagingExampleSpec(\n",
    "        video_shape=(4,224,224,3), # HACK - it expects full videos and to these applies the down-sampler, should store 64x64 videos on disk\n",
    "        image_shape=(64,64,3),\n",
    "        audio_shape=(1926,),\n",
    "        eeg_shape=(32*100,), # HACK\n",
    "        target_shape=(12,),\n",
    "    )\n",
    "    \n",
    "video = tf.reshape(template.fields[\"video\"].mock_one(), (4*224*224*3,))\n",
    "image = tf.reshape(template.fields[\"image\"].mock_one(zeros=True), (64*64*3,))\n",
    "eeg = tf.reshape(template.fields[\"eeg\"].mock_one(zeros=True), (3200,))\n",
    "\n",
    "ex = tf.train.Example(features=tf.train.Features(feature={\n",
    "  \"audio\": tf.train.Feature(int64_list=tf.train.Int64List(value=[0] * 1926)),\n",
    "  \"video\": tf.train.Feature(int64_list=tf.train.Int64List(value=video)),\n",
    "  \"image\": tf.train.Feature(int64_list=tf.train.Int64List(value=image)),\n",
    "  \"eeg\": tf.train.Feature(int64_list=tf.train.Int64List(value=eeg)),\n",
    "  \"problem_code\": tf.train.Feature(int64_list=tf.train.Int64List(value=[0] * 1)),\n",
    "  \"targets\": tf.train.Feature(int64_list=tf.train.Int64List(value=[0] * 12))\n",
    "}))\n"
   ]
  },
  {
   "cell_type": "markdown",
   "metadata": {},
   "source": [
    "### Perform the query"
   ]
  },
  {
   "cell_type": "code",
   "execution_count": 39,
   "metadata": {},
   "outputs": [
    {
     "data": {
      "text/plain": [
       "array([[ 79.4701   ],\n",
       "       [ 80.600525 ],\n",
       "       [ 79.44701  ],\n",
       "       [ 77.51228  ],\n",
       "       [ 75.431694 ],\n",
       "       [ 77.470314 ],\n",
       "       [ 89.360115 ],\n",
       "       [115.9096   ],\n",
       "       [122.36474  ],\n",
       "       [ 89.798416 ],\n",
       "       [ -0.8570216],\n",
       "       [ -5.267337 ]], dtype=float32)"
      ]
     },
     "execution_count": 39,
     "metadata": {},
     "output_type": "execute_result"
    }
   ],
   "source": [
    "\n",
    "from tensorflow_serving.apis import predict_pb2\n",
    "from tensorflow_serving.apis import prediction_service_pb2_grpc\n",
    "from tensor2tensor.serving import serving_utils\n",
    "\n",
    "def _make_grpc_request(examples, server_stub, servable_name, timeout_secs=5):\n",
    "\n",
    "  request = predict_pb2.PredictRequest()\n",
    "  request.model_spec.name = servable_name\n",
    "  request.inputs[\"input\"].CopyFrom(\n",
    "    tf.make_tensor_proto(\n",
    "            [ex.SerializeToString() for ex in examples], shape=[len(examples)]))\n",
    "  response = stub.Predict(request, timeout_secs)\n",
    "  outputs = tf.make_ndarray(response.outputs[\"outputs\"])\n",
    "\n",
    "  return [{\n",
    "    \"outputs\": outputs[i]\n",
    "  } for i in range(len(outputs))]\n",
    "\n",
    "\n",
    "stub = serving_utils._create_stub(server)\n",
    "\n",
    "servable_name = \"multi-modal-model-ut\"\n",
    "\n",
    "response = _make_grpc_request(examples=[ex],\n",
    "                              server_stub=stub,\n",
    "                              servable_name=servable_name)\n",
    "\n",
    "response[0][\"outputs\"]\n"
   ]
  },
  {
   "cell_type": "markdown",
   "metadata": {},
   "source": [
    "### Local query\n",
    "\n",
    "Obtain an example from a tf.data dataset then feed that to a locally-served model."
   ]
  },
  {
   "cell_type": "markdown",
   "metadata": {},
   "source": [
    "#### Generate, examine example"
   ]
  },
  {
   "cell_type": "code",
   "execution_count": 11,
   "metadata": {},
   "outputs": [],
   "source": [
    "from pcml.dev_helper import T2TDevHelper"
   ]
  },
  {
   "cell_type": "code",
   "execution_count": 12,
   "metadata": {},
   "outputs": [
    {
     "name": "stdout",
     "output_type": "stream",
     "text": [
      "INFO:tensorflow:Downloading https://drive.google.com/uc?export=download&id=0B7EVK8r0v71pZjFTYXZWM3FlRnM&confirm=uvSR to /tmp/tmphxbb2rfh/img_align_celeba.zip\n"
     ]
    },
    {
     "name": "stderr",
     "output_type": "stream",
     "text": [
      "I0325 20:02:55.964800 139663710463808 generator_utils.py:283] Downloading https://drive.google.com/uc?export=download&id=0B7EVK8r0v71pZjFTYXZWM3FlRnM&confirm=uvSR to /tmp/tmphxbb2rfh/img_align_celeba.zip\n"
     ]
    },
    {
     "name": "stdout",
     "output_type": "stream",
     "text": [
      "\n",
      "INFO:tensorflow:Successfully downloaded img_align_celeba.zip, 1443490838 bytes.\n"
     ]
    },
    {
     "name": "stderr",
     "output_type": "stream",
     "text": [
      "I0325 20:03:08.233234 139663710463808 generator_utils.py:297] Successfully downloaded img_align_celeba.zip, 1443490838 bytes.\n"
     ]
    },
    {
     "name": "stdout",
     "output_type": "stream",
     "text": [
      "INFO:tensorflow:Downloading https://drive.google.com/uc?export=download&id=0B7EVK8r0v71pd0FJY3Blby1HUTQ to /tmp/tmphxbb2rfh/celeba_landmarks_align\n"
     ]
    },
    {
     "name": "stderr",
     "output_type": "stream",
     "text": [
      "I0325 20:03:09.263184 139663710463808 generator_utils.py:283] Downloading https://drive.google.com/uc?export=download&id=0B7EVK8r0v71pd0FJY3Blby1HUTQ to /tmp/tmphxbb2rfh/celeba_landmarks_align\n"
     ]
    },
    {
     "name": "stdout",
     "output_type": "stream",
     "text": [
      "\n",
      "INFO:tensorflow:Successfully downloaded celeba_landmarks_align, 12156055 bytes.\n"
     ]
    },
    {
     "name": "stderr",
     "output_type": "stream",
     "text": [
      "I0325 20:03:10.066515 139663710463808 generator_utils.py:297] Successfully downloaded celeba_landmarks_align, 12156055 bytes.\n"
     ]
    },
    {
     "name": "stdout",
     "output_type": "stream",
     "text": [
      "INFO:tensorflow:Downloading https://drive.google.com/uc?export=download&id=0B7EVK8r0v71pblRyaVFSWGxPY0U to /tmp/tmphxbb2rfh/celeba_attr\n"
     ]
    },
    {
     "name": "stderr",
     "output_type": "stream",
     "text": [
      "I0325 20:03:11.436172 139663710463808 generator_utils.py:283] Downloading https://drive.google.com/uc?export=download&id=0B7EVK8r0v71pblRyaVFSWGxPY0U to /tmp/tmphxbb2rfh/celeba_attr\n"
     ]
    },
    {
     "name": "stdout",
     "output_type": "stream",
     "text": [
      "\n",
      "INFO:tensorflow:Successfully downloaded celeba_attr, 26721026 bytes.\n"
     ]
    },
    {
     "name": "stderr",
     "output_type": "stream",
     "text": [
      "I0325 20:03:13.570899 139663710463808 generator_utils.py:297] Successfully downloaded celeba_attr, 26721026 bytes.\n"
     ]
    },
    {
     "name": "stdout",
     "output_type": "stream",
     "text": [
      "INFO:tensorflow:Generating case 0.\n"
     ]
    },
    {
     "name": "stderr",
     "output_type": "stream",
     "text": [
      "I0325 20:04:05.271942 139663710463808 generator_utils.py:170] Generating case 0.\n"
     ]
    },
    {
     "name": "stdout",
     "output_type": "stream",
     "text": [
      "INFO:tensorflow:Generated 100 Examples\n"
     ]
    },
    {
     "name": "stderr",
     "output_type": "stream",
     "text": [
      "I0325 20:04:05.497076 139663710463808 generator_utils.py:193] Generated 100 Examples\n"
     ]
    },
    {
     "name": "stdout",
     "output_type": "stream",
     "text": [
      "INFO:tensorflow:Not downloading, file already found: /tmp/tmphxbb2rfh/img_align_celeba.zip\n"
     ]
    },
    {
     "name": "stderr",
     "output_type": "stream",
     "text": [
      "I0325 20:04:05.505115 139663710463808 generator_utils.py:268] Not downloading, file already found: /tmp/tmphxbb2rfh/img_align_celeba.zip\n"
     ]
    },
    {
     "name": "stdout",
     "output_type": "stream",
     "text": [
      "INFO:tensorflow:Not downloading, file already found: /tmp/tmphxbb2rfh/celeba_landmarks_align\n"
     ]
    },
    {
     "name": "stderr",
     "output_type": "stream",
     "text": [
      "I0325 20:04:05.509054 139663710463808 generator_utils.py:268] Not downloading, file already found: /tmp/tmphxbb2rfh/celeba_landmarks_align\n"
     ]
    },
    {
     "name": "stdout",
     "output_type": "stream",
     "text": [
      "INFO:tensorflow:Not downloading, file already found: /tmp/tmphxbb2rfh/celeba_attr\n"
     ]
    },
    {
     "name": "stderr",
     "output_type": "stream",
     "text": [
      "I0325 20:04:05.511838 139663710463808 generator_utils.py:268] Not downloading, file already found: /tmp/tmphxbb2rfh/celeba_attr\n"
     ]
    },
    {
     "name": "stdout",
     "output_type": "stream",
     "text": [
      "INFO:tensorflow:Generating case 0.\n"
     ]
    },
    {
     "name": "stderr",
     "output_type": "stream",
     "text": [
      "I0325 20:04:11.514564 139663710463808 generator_utils.py:170] Generating case 0.\n"
     ]
    },
    {
     "name": "stdout",
     "output_type": "stream",
     "text": [
      "INFO:tensorflow:Generated 100 Examples\n"
     ]
    },
    {
     "name": "stderr",
     "output_type": "stream",
     "text": [
      "I0325 20:04:11.718241 139663710463808 generator_utils.py:193] Generated 100 Examples\n"
     ]
    },
    {
     "name": "stdout",
     "output_type": "stream",
     "text": [
      "INFO:tensorflow:Not downloading, file already found: /tmp/tmphxbb2rfh/img_align_celeba.zip\n"
     ]
    },
    {
     "name": "stderr",
     "output_type": "stream",
     "text": [
      "I0325 20:04:11.722695 139663710463808 generator_utils.py:268] Not downloading, file already found: /tmp/tmphxbb2rfh/img_align_celeba.zip\n"
     ]
    },
    {
     "name": "stdout",
     "output_type": "stream",
     "text": [
      "INFO:tensorflow:Not downloading, file already found: /tmp/tmphxbb2rfh/celeba_landmarks_align\n"
     ]
    },
    {
     "name": "stderr",
     "output_type": "stream",
     "text": [
      "I0325 20:04:11.724748 139663710463808 generator_utils.py:268] Not downloading, file already found: /tmp/tmphxbb2rfh/celeba_landmarks_align\n"
     ]
    },
    {
     "name": "stdout",
     "output_type": "stream",
     "text": [
      "INFO:tensorflow:Not downloading, file already found: /tmp/tmphxbb2rfh/celeba_attr\n"
     ]
    },
    {
     "name": "stderr",
     "output_type": "stream",
     "text": [
      "I0325 20:04:11.726420 139663710463808 generator_utils.py:268] Not downloading, file already found: /tmp/tmphxbb2rfh/celeba_attr\n"
     ]
    },
    {
     "name": "stdout",
     "output_type": "stream",
     "text": [
      "INFO:tensorflow:Generating case 0.\n"
     ]
    },
    {
     "name": "stderr",
     "output_type": "stream",
     "text": [
      "I0325 20:04:18.062736 139663710463808 generator_utils.py:170] Generating case 0.\n"
     ]
    },
    {
     "name": "stdout",
     "output_type": "stream",
     "text": [
      "INFO:tensorflow:Generated 100 Examples\n"
     ]
    },
    {
     "name": "stderr",
     "output_type": "stream",
     "text": [
      "I0325 20:04:18.210750 139663710463808 generator_utils.py:193] Generated 100 Examples\n"
     ]
    },
    {
     "name": "stdout",
     "output_type": "stream",
     "text": [
      "INFO:tensorflow:Shuffling data...\n"
     ]
    },
    {
     "name": "stderr",
     "output_type": "stream",
     "text": [
      "I0325 20:04:18.215800 139663710463808 generator_utils.py:527] Shuffling data...\n"
     ]
    },
    {
     "name": "stdout",
     "output_type": "stream",
     "text": [
      "WARNING:tensorflow:From /home/jovyan/.local/lib/python3.6/site-packages/tensor2tensor/data_generators/generator_utils.py:469: tf_record_iterator (from tensorflow.python.lib.io.tf_record) is deprecated and will be removed in a future version.\n",
      "Instructions for updating:\n",
      "Use eager execution and: \n",
      "`tf.data.TFRecordDataset(path)`\n"
     ]
    },
    {
     "name": "stderr",
     "output_type": "stream",
     "text": [
      "W0325 20:04:18.217613 139663710463808 deprecation.py:323] From /home/jovyan/.local/lib/python3.6/site-packages/tensor2tensor/data_generators/generator_utils.py:469: tf_record_iterator (from tensorflow.python.lib.io.tf_record) is deprecated and will be removed in a future version.\n",
      "Instructions for updating:\n",
      "Use eager execution and: \n",
      "`tf.data.TFRecordDataset(path)`\n"
     ]
    },
    {
     "name": "stdout",
     "output_type": "stream",
     "text": [
      "INFO:tensorflow:Data shuffled.\n"
     ]
    },
    {
     "name": "stderr",
     "output_type": "stream",
     "text": [
      "I0325 20:04:19.214002 139663710463808 generator_utils.py:530] Data shuffled.\n"
     ]
    }
   ],
   "source": [
    "\n",
    "helper = T2TDevHelper(\"multi_modal_dev_model\",\n",
    "                      \"image_celeba_pcml_dev\",\n",
    "                      \"multi_modal_dev_model_tiny\",\n",
    "                      None,\n",
    "                      \"/tmp/celeba\")\n",
    "\n",
    "helper.datagen()\n"
   ]
  },
  {
   "cell_type": "code",
   "execution_count": 127,
   "metadata": {},
   "outputs": [],
   "source": [
    "ex = helper.eager_get_example()"
   ]
  },
  {
   "cell_type": "code",
   "execution_count": 9,
   "metadata": {},
   "outputs": [],
   "source": [
    "\n",
    "def _get_and_show_example():\n",
    "    ex = helper.eager_get_example()\n",
    "    img = ex[\"image\"].numpy()[0]\n",
    "    labels = ex[\"targets\"][0].numpy()\n",
    "    plot_overlay(img, labels)\n",
    "    return ex, img, labels\n",
    "\n",
    "def plot_overlay(image, labels):\n",
    "    \n",
    "    def _update_y(y):\n",
    "      return (y)*64/218\n",
    "\n",
    "    def _update_x(x):\n",
    "      return (x)*64/178\n",
    "\n",
    "    lefteye_x = _update_x(labels[0])\n",
    "    lefteye_y = _update_y(labels[1])\n",
    "    righteye_x = _update_x(labels[2])\n",
    "    righteye_y = _update_y(labels[3])\n",
    "    nose_x = _update_x(labels[4])\n",
    "    nose_y = _update_y(labels[5])\n",
    "    leftmouth_x = _update_x(labels[6])\n",
    "    leftmouth_y = _update_y(labels[7])\n",
    "    rightmouth_x = _update_x(labels[8])\n",
    "    rightmouth_y = _update_y(labels[9])\n",
    "\n",
    "    plt.scatter([lefteye_x, righteye_x, nose_x, leftmouth_x, rightmouth_x],\n",
    "                [lefteye_y, righteye_y, nose_y, leftmouth_y, rightmouth_y])\n",
    "    plt.xlim(0,64)\n",
    "    plt.ylim(64,0)\n",
    "    plt.imshow(image)\n",
    "    plt.show()\n"
   ]
  },
  {
   "cell_type": "code",
   "execution_count": 238,
   "metadata": {},
   "outputs": [
    {
     "data": {
      "image/png": "[encoded data removed]",
      "text/plain": [
       "<Figure size 432x288 with 1 Axes>"
      ]
     },
     "metadata": {},
     "output_type": "display_data"
    }
   ],
   "source": [
    "_, _, _ = _get_and_show_example()"
   ]
  },
  {
   "cell_type": "code",
   "execution_count": 242,
   "metadata": {},
   "outputs": [
    {
     "data": {
      "image/png": "[encoded data removed]",
      "text/plain": [
       "<Figure size 432x288 with 1 Axes>"
      ]
     },
     "metadata": {},
     "output_type": "display_data"
    }
   ],
   "source": [
    "_, _, _ = _get_and_show_example()"
   ]
  },
  {
   "cell_type": "code",
   "execution_count": 246,
   "metadata": {},
   "outputs": [
    {
     "data": {
      "image/png": "[encoded data removed]",
      "text/plain": [
       "<Figure size 432x288 with 1 Axes>"
      ]
     },
     "metadata": {},
     "output_type": "display_data"
    }
   ],
   "source": [
    "_, _, _ = _get_and_show_example()"
   ]
  },
  {
   "cell_type": "code",
   "execution_count": 276,
   "metadata": {},
   "outputs": [
    {
     "data": {
      "image/png": "[encoded data removed]",
      "text/plain": [
       "<Figure size 432x288 with 1 Axes>"
      ]
     },
     "metadata": {},
     "output_type": "display_data"
    }
   ],
   "source": [
    "ex, img, labels = _get_and_show_example()"
   ]
  },
  {
   "cell_type": "code",
   "execution_count": 277,
   "metadata": {},
   "outputs": [],
   "source": [
    "image = tf.reshape(ex[\"image\"][0], (64*64*3,))"
   ]
  },
  {
   "cell_type": "code",
   "execution_count": 278,
   "metadata": {},
   "outputs": [],
   "source": [
    "\n",
    "ex = tf.train.Example(features=tf.train.Features(feature={\n",
    "  \"audio\": tf.train.Feature(int64_list=tf.train.Int64List(value=[0] * 1926)),\n",
    "  \"video\": tf.train.Feature(int64_list=tf.train.Int64List(value=video)),\n",
    "  \"image\": tf.train.Feature(int64_list=tf.train.Int64List(value=image)),\n",
    "  \"eeg\": tf.train.Feature(int64_list=tf.train.Int64List(value=eeg)),\n",
    "  \"problem_code\": tf.train.Feature(int64_list=tf.train.Int64List(value=[0] * 1)),\n",
    "  \"targets\": tf.train.Feature(int64_list=tf.train.Int64List(value=[0] * 12))\n",
    "}))\n"
   ]
  },
  {
   "cell_type": "code",
   "execution_count": 279,
   "metadata": {},
   "outputs": [
    {
     "data": {
      "text/plain": [
       "array([[ 78.23723  ],\n",
       "       [ 79.40712  ],\n",
       "       [ 78.42296  ],\n",
       "       [ 76.841125 ],\n",
       "       [ 75.04834  ],\n",
       "       [ 76.909515 ],\n",
       "       [ 88.13536  ],\n",
       "       [113.35998  ],\n",
       "       [118.92284  ],\n",
       "       [ 83.472496 ],\n",
       "       [ -2.5511527],\n",
       "       [ -6.1147394]], dtype=float32)"
      ]
     },
     "execution_count": 279,
     "metadata": {},
     "output_type": "execute_result"
    }
   ],
   "source": [
    "\n",
    "from tensorflow_serving.apis import predict_pb2\n",
    "from tensorflow_serving.apis import prediction_service_pb2_grpc\n",
    "from tensor2tensor.serving import serving_utils\n",
    "\n",
    "def _make_grpc_request(examples, server_stub, servable_name, timeout_secs=5):\n",
    "\n",
    "  request = predict_pb2.PredictRequest()\n",
    "  request.model_spec.name = servable_name\n",
    "  request.inputs[\"input\"].CopyFrom(\n",
    "    tf.make_tensor_proto(\n",
    "            [ex.SerializeToString() for ex in examples], shape=[len(examples)]))\n",
    "  response = stub.Predict(request, timeout_secs)\n",
    "  outputs = tf.make_ndarray(response.outputs[\"outputs\"])\n",
    "\n",
    "  return [{\n",
    "    \"outputs\": outputs[i]\n",
    "  } for i in range(len(outputs))]\n",
    "\n",
    "\n",
    "stub = serving_utils._create_stub(server)\n",
    "\n",
    "servable_name = \"multi-modal-model-ut\"\n",
    "\n",
    "response = _make_grpc_request(examples=[ex],\n",
    "                              server_stub=stub,\n",
    "                              servable_name=servable_name)\n",
    "\n",
    "response[0][\"outputs\"]\n"
   ]
  },
  {
   "cell_type": "code",
   "execution_count": 290,
   "metadata": {},
   "outputs": [
    {
     "data": {
      "image/png": "[encoded data removed]",
      "text/plain": [
       "<Figure size 432x288 with 1 Axes>"
      ]
     },
     "metadata": {},
     "output_type": "display_data"
    }
   ],
   "source": [
    "plot_overlay(img, response[0][\"outputs\"])"
   ]
  },
  {
   "cell_type": "markdown",
   "metadata": {},
   "source": [
    "Clearly these landmark predictions are wrong which is to be expected because we only trained our model for 300 steps."
   ]
  },
  {
   "cell_type": "markdown",
   "metadata": {},
   "source": [
    "### Long training run"
   ]
  },
  {
   "cell_type": "markdown",
   "metadata": {},
   "source": [
    "So then let's train a model for much more than 300 steps and see how well it performs."
   ]
  },
  {
   "cell_type": "code",
   "execution_count": 1,
   "metadata": {},
   "outputs": [
    {
     "name": "stdout",
     "output_type": "stream",
     "text": [
      "\n",
      "WARNING: The TensorFlow contrib module will not be included in TensorFlow 2.0.\n",
      "For more information, please see:\n",
      "  * https://github.com/tensorflow/community/blob/master/rfcs/20180907-contrib-sunset.md\n",
      "  * https://github.com/tensorflow/addons\n",
      "If you depend on functionality not listed there, please file an issue.\n",
      "\n",
      "INFO:tensorflow:Entry Point [tensor2tensor.envs.tic_tac_toe_env:TicTacToeEnv] registered with id [T2TEnv-TicTacToeEnv-v0]\n"
     ]
    }
   ],
   "source": [
    "\n",
    "from pcml.launcher.experiment import configure_experiment\n",
    "\n",
    "# See <---- (letter) below\n",
    "# a: Training steps increased from 300 to 6000\n",
    "# b: Batch size increased from 36 to 48\n",
    "\n",
    "experiment = configure_experiment(\n",
    "  base_name=\"test_e2e_tpu_ut\",\n",
    "  problem=\"multi_modal_imaging_multi_problem\",\n",
    "  model=\"multi_modal_model_ut\",\n",
    "  hparams_set=\"multi_modal_model_tiny_v2\",\n",
    "  num_train_steps=6000, # <---- a\n",
    "  num_gpu_per_worker=0,\n",
    "  trainer_memory=\"7Gi\",\n",
    "  trainer_cpu=4,\n",
    "  extra_hparams={\"batch_size\": 48}, # <---- b\n",
    "  app_root=\"/home/jovyan/work/pcml\",\n",
    "  base_image=\"tensorflow/tensorflow:1.13.1-py3\",\n",
    "  schedule=\"train\",\n",
    "  data_dir=\"gs://clarify-models-us-central1/experiments/example-scaleup\",\n",
    "  remote_base=\"gs://clarify-models-us-central1/experiments/example-scaleup\",\n",
    "  use_tpu=True,\n",
    "  num_tpu_cores=8,\n",
    "  tpu_tf_version=\"1.13\",\n",
    "  selector_labels={\"type\": \"tpu-host\"})\n",
    "\n",
    "create_response, job_dict = experiment.batch_run()\n",
    "\n",
    "# What we would like to see here is the ability to over-fit to a small training dataset as a\n",
    "# confirmation our model is functioning at least in this sense.\n"
   ]
  },
  {
   "cell_type": "code",
   "execution_count": 5,
   "metadata": {},
   "outputs": [
    {
     "data": {
      "text/plain": [
       "{'apiVersion': 'kubeflow.org/v1beta1',\n",
       " 'kind': 'TFJob',\n",
       " 'metadata': {'creationTimestamp': '2019-03-25T18:46:06Z',\n",
       "  'generation': 1,\n",
       "  'name': 'test-e2e-tpu-ut-j0325-1846-c625',\n",
       "  'namespace': 'kubeflow',\n",
       "  'resourceVersion': '9188476',\n",
       "  'selfLink': '/apis/kubeflow.org/v1beta1/namespaces/kubeflow/tfjobs/test-e2e-tpu-ut-j0325-1846-c625',\n",
       "  'uid': '3fce5e09-4f2e-11e9-af6e-42010a8000a2'},\n",
       " 'spec': {'tfReplicaSpecs': {'MASTER': {'replicas': 1,\n",
       "    'template': {'metadata': {'annotations': {'tf-version.cloud-tpus.google.com': '1.13'}},\n",
       "     'spec': {'containers': [{'args': ['unset TF_CONFIG; apt-get update && apt-get install -y libsm6 libxext6 libxrender-dev libglib2.0-0; python -c \\'import tensorflow as tf; tf.gfile.Copy(\"gs://clarify-models-us-central1/experiments/example-scaleup/test-e2e-tpu-ut-j0325-1846-c625/pcml-0.0.1.tar.gz\", \"/tmp/pcml-0.0.1.tar.gz\", overwrite=True)\\'; cd /tmp; tar -xzvf /tmp/pcml-0.0.1.tar.gz; cd /tmp/pcml-0.0.1; pip install -e .; python -c \\'import tensorflow as tf; print(tf.__version__)\\'; nvidia-smi; python -c \\'from tensorflow.python.client import device_lib; print(device_lib.list_local_devices())\\'; echo ${TF_CONFIG}; python -m pcml.launcher.experiment --generate_data --problem=multi_modal_imaging_multi_problem --model=multi_modal_model_ut --hparams_set=multi_modal_model_tiny_v2 --data_dir=gs://clarify-models-us-central1/experiments/example-scaleup --output_dir=gs://clarify-models-us-central1/experiments/example-scaleup/test-e2e-tpu-ut-j0325-1846-c625/output --train_steps=6000 --eval_steps=1 --schedule=train --profile=False --log_device_placement=False --worker_gpu=0 --ps_gpu=1 --save_checkpoints_secs=1800 --dbgprofile=False --ssd_mount_path=/mnt/disks/ssd0 --tmp_dir=/mnt/disks/ssd0 --worker_gpu_memory_fraction=0.95 --t2t_usr_dir=/tmp/pcml/pcml --hparams=\\'batch_size=48\\' --local_eval_frequency=90 --use_tpu=True'],\n",
       "        'command': ['/bin/sh', '-c'],\n",
       "        'image': 'tensorflow/tensorflow:1.13.1-py3',\n",
       "        'name': 'tensorflow',\n",
       "        'resources': {'limits': {'cloud-tpus.google.com/v3': 8,\n",
       "          'cpu': 4,\n",
       "          'memory': '7Gi'}},\n",
       "        'volumeMounts': [{'mountPath': '/mnt/ssd0', 'name': 'ssd0'}]}],\n",
       "      'nodeSelector': {'type': 'tpu-host'},\n",
       "      'restartPolicy': 'OnFailure',\n",
       "      'volumes': [{'hostPath': {'path': '/mnt/disks/ssd0'}, 'name': 'ssd0'}]}},\n",
       "    'tfReplicaType': 'MASTER'}}}}"
      ]
     },
     "execution_count": 5,
     "metadata": {},
     "output_type": "execute_result"
    }
   ],
   "source": [
    "create_response"
   ]
  },
  {
   "cell_type": "code",
   "execution_count": 6,
   "metadata": {},
   "outputs": [
    {
     "name": "stdout",
     "output_type": "stream",
     "text": [
      "INFO:tensorflow:Calling command: /home/jovyan/work/pcml/clarify/ks generate tf-serving-service multi-modal-model-ut-service-edd9\n"
     ]
    },
    {
     "name": "stderr",
     "output_type": "stream",
     "text": [
      "WARNING: Logging before flag parsing goes to stderr.\n",
      "I0325 20:00:37.017306 139663710463808 serving_utils.py:51] Calling command: /home/jovyan/work/pcml/clarify/ks generate tf-serving-service multi-modal-model-ut-service-edd9\n"
     ]
    },
    {
     "name": "stdout",
     "output_type": "stream",
     "text": [
      "INFO:tensorflow:Calling command: /home/jovyan/work/pcml/clarify/ks param set multi-modal-model-ut-service-edd9 modelName multi-modal-model-ut\n"
     ]
    },
    {
     "name": "stderr",
     "output_type": "stream",
     "text": [
      "I0325 20:00:37.177944 139663710463808 serving_utils.py:51] Calling command: /home/jovyan/work/pcml/clarify/ks param set multi-modal-model-ut-service-edd9 modelName multi-modal-model-ut\n"
     ]
    },
    {
     "name": "stdout",
     "output_type": "stream",
     "text": [
      "INFO:tensorflow:Calling command: /home/jovyan/work/pcml/clarify/ks param set multi-modal-model-ut-service-edd9 trafficRule v1:100\n"
     ]
    },
    {
     "name": "stderr",
     "output_type": "stream",
     "text": [
      "I0325 20:00:37.314347 139663710463808 serving_utils.py:51] Calling command: /home/jovyan/work/pcml/clarify/ks param set multi-modal-model-ut-service-edd9 trafficRule v1:100\n"
     ]
    },
    {
     "name": "stdout",
     "output_type": "stream",
     "text": [
      "INFO:tensorflow:Calling command: /home/jovyan/work/pcml/clarify/ks param set multi-modal-model-ut-service-edd9 serviceType ClusterIP\n"
     ]
    },
    {
     "name": "stderr",
     "output_type": "stream",
     "text": [
      "I0325 20:00:37.455038 139663710463808 serving_utils.py:51] Calling command: /home/jovyan/work/pcml/clarify/ks param set multi-modal-model-ut-service-edd9 serviceType ClusterIP\n"
     ]
    },
    {
     "name": "stdout",
     "output_type": "stream",
     "text": [
      "INFO:tensorflow:Calling command: /home/jovyan/work/pcml/clarify/ks generate tf-serving-deployment-gcp multi-modal-model-ut-edd9\n"
     ]
    },
    {
     "name": "stderr",
     "output_type": "stream",
     "text": [
      "I0325 20:00:37.580106 139663710463808 serving_utils.py:51] Calling command: /home/jovyan/work/pcml/clarify/ks generate tf-serving-deployment-gcp multi-modal-model-ut-edd9\n"
     ]
    },
    {
     "name": "stdout",
     "output_type": "stream",
     "text": [
      "INFO:tensorflow:Calling command: /home/jovyan/work/pcml/clarify/ks param set multi-modal-model-ut-edd9 modelName multi-modal-model-ut\n"
     ]
    },
    {
     "name": "stderr",
     "output_type": "stream",
     "text": [
      "I0325 20:00:37.731470 139663710463808 serving_utils.py:51] Calling command: /home/jovyan/work/pcml/clarify/ks param set multi-modal-model-ut-edd9 modelName multi-modal-model-ut\n"
     ]
    },
    {
     "name": "stdout",
     "output_type": "stream",
     "text": [
      "INFO:tensorflow:Calling command: /home/jovyan/work/pcml/clarify/ks param set multi-modal-model-ut-edd9 versionName v1\n"
     ]
    },
    {
     "name": "stderr",
     "output_type": "stream",
     "text": [
      "I0325 20:00:37.851890 139663710463808 serving_utils.py:51] Calling command: /home/jovyan/work/pcml/clarify/ks param set multi-modal-model-ut-edd9 versionName v1\n"
     ]
    },
    {
     "name": "stdout",
     "output_type": "stream",
     "text": [
      "INFO:tensorflow:Calling command: /home/jovyan/work/pcml/clarify/ks param set multi-modal-model-ut-edd9 modelBasePath gs://clarify-models-us-central1/experiments/example-scaleup/test-e2e-tpu-ut-j0325-1846-c625/output/export\n"
     ]
    },
    {
     "name": "stderr",
     "output_type": "stream",
     "text": [
      "I0325 20:00:38.010829 139663710463808 serving_utils.py:51] Calling command: /home/jovyan/work/pcml/clarify/ks param set multi-modal-model-ut-edd9 modelBasePath gs://clarify-models-us-central1/experiments/example-scaleup/test-e2e-tpu-ut-j0325-1846-c625/output/export\n"
     ]
    },
    {
     "name": "stdout",
     "output_type": "stream",
     "text": [
      "INFO:tensorflow:Calling command: /home/jovyan/work/pcml/clarify/ks param set multi-modal-model-ut-edd9 gcpCredentialSecretName user-gcp-sa\n"
     ]
    },
    {
     "name": "stderr",
     "output_type": "stream",
     "text": [
      "I0325 20:00:38.130631 139663710463808 serving_utils.py:51] Calling command: /home/jovyan/work/pcml/clarify/ks param set multi-modal-model-ut-edd9 gcpCredentialSecretName user-gcp-sa\n"
     ]
    },
    {
     "name": "stdout",
     "output_type": "stream",
     "text": [
      "INFO:tensorflow:Calling command: /home/jovyan/work/pcml/clarify/ks param set multi-modal-model-ut-edd9 injectIstio true\n"
     ]
    },
    {
     "name": "stderr",
     "output_type": "stream",
     "text": [
      "I0325 20:00:38.259261 139663710463808 serving_utils.py:51] Calling command: /home/jovyan/work/pcml/clarify/ks param set multi-modal-model-ut-edd9 injectIstio true\n"
     ]
    },
    {
     "name": "stdout",
     "output_type": "stream",
     "text": [
      "INFO:tensorflow:Calling command: /home/jovyan/work/pcml/clarify/ks env set default\n"
     ]
    },
    {
     "name": "stderr",
     "output_type": "stream",
     "text": [
      "I0325 20:00:38.378018 139663710463808 serving_utils.py:51] Calling command: /home/jovyan/work/pcml/clarify/ks env set default\n"
     ]
    },
    {
     "name": "stdout",
     "output_type": "stream",
     "text": [
      "INFO:tensorflow:Calling command: /home/jovyan/work/pcml/clarify/ks apply default -c multi-modal-model-ut-service-edd9\n"
     ]
    },
    {
     "name": "stderr",
     "output_type": "stream",
     "text": [
      "I0325 20:00:38.493971 139663710463808 serving_utils.py:51] Calling command: /home/jovyan/work/pcml/clarify/ks apply default -c multi-modal-model-ut-service-edd9\n"
     ]
    },
    {
     "name": "stdout",
     "output_type": "stream",
     "text": [
      "INFO:tensorflow:Calling command: /home/jovyan/work/pcml/clarify/ks apply default -c multi-modal-model-ut-edd9\n"
     ]
    },
    {
     "name": "stderr",
     "output_type": "stream",
     "text": [
      "I0325 20:00:48.349515 139663710463808 serving_utils.py:51] Calling command: /home/jovyan/work/pcml/clarify/ks apply default -c multi-modal-model-ut-edd9\n"
     ]
    }
   ],
   "source": [
    "\n",
    "import os\n",
    "from pcml.serving_utils import serve_model\n",
    "\n",
    "ckpt_dir = \"gs://clarify-models-us-central1/experiments/example-scaleup/test-e2e-tpu-ut-j0325-1846-c625/output\"\n",
    "\n",
    "serve_model(ks_path=\"/home/jovyan/work/pcml/clarify/ks\",\n",
    "            model_name=\"multi_modal_model_ut\",\n",
    "            model_export_path=os.path.join(ckpt_dir, \"export\"),\n",
    "            kf_app_path=\"/home/jovyan/work/pcml/clarify/v0.4.1/clarify/ks_app/\")\n"
   ]
  },
  {
   "cell_type": "code",
   "execution_count": 20,
   "metadata": {},
   "outputs": [
    {
     "data": {
      "image/png": "[encoded data removed]",
      "text/plain": [
       "<Figure size 432x288 with 1 Axes>"
      ]
     },
     "metadata": {},
     "output_type": "display_data"
    }
   ],
   "source": [
    "ex, img, labels = _get_and_show_example()"
   ]
  },
  {
   "cell_type": "code",
   "execution_count": 21,
   "metadata": {},
   "outputs": [
    {
     "data": {
      "text/plain": [
       "array([[ 78.94051  ],\n",
       "       [ 80.04538  ],\n",
       "       [ 78.89234  ],\n",
       "       [ 77.27198  ],\n",
       "       [ 75.382866 ],\n",
       "       [ 76.92707  ],\n",
       "       [ 87.81217  ],\n",
       "       [113.26525  ],\n",
       "       [118.94756  ],\n",
       "       [ 90.979034 ],\n",
       "       [ -2.5690925],\n",
       "       [ -6.530515 ]], dtype=float32)"
      ]
     },
     "execution_count": 21,
     "metadata": {},
     "output_type": "execute_result"
    }
   ],
   "source": [
    "\n",
    "from tensorflow_serving.apis import predict_pb2\n",
    "from tensorflow_serving.apis import prediction_service_pb2_grpc\n",
    "from tensor2tensor.serving import serving_utils\n",
    "from pcml.data_generators import mmimp\n",
    "\n",
    "\n",
    "def _make_grpc_request(examples, server_stub, servable_name, timeout_secs=5):\n",
    "\n",
    "  request = predict_pb2.PredictRequest()\n",
    "  request.model_spec.name = servable_name\n",
    "  request.inputs[\"input\"].CopyFrom(\n",
    "    tf.make_tensor_proto(\n",
    "            [ex.SerializeToString() for ex in examples], shape=[len(examples)]))\n",
    "  response = stub.Predict(request, timeout_secs)\n",
    "  outputs = tf.make_ndarray(response.outputs[\"outputs\"])\n",
    "\n",
    "  return [{\n",
    "    \"outputs\": outputs[i]\n",
    "  } for i in range(len(outputs))]\n",
    "\n",
    "# After starting proxy of serving pod 9000 to localhost:9000 from command line\n",
    "server = \"localhost:9000\"\n",
    "\n",
    "template = mmimp.MultiModalImagingExampleSpec(\n",
    "        video_shape=(4,224,224,3), # HACK - it expects full videos and to these applies the down-sampler, should store 64x64 videos on disk\n",
    "        image_shape=(64,64,3),\n",
    "        audio_shape=(1926,),\n",
    "        eeg_shape=(32*100,), # HACK\n",
    "        target_shape=(12,),\n",
    "    )\n",
    "\n",
    "video = tf.reshape(template.fields[\"video\"].mock_one(), (4*224*224*3,))\n",
    "eeg = tf.reshape(template.fields[\"eeg\"].mock_one(zeros=True), (3200,))\n",
    "\n",
    "image = tf.reshape(ex[\"image\"][0], (64*64*3,))\n",
    "\n",
    "query_example = tf.train.Example(features=tf.train.Features(feature={\n",
    "    \"audio\": tf.train.Feature(int64_list=tf.train.Int64List(value=[0] * 1926)),\n",
    "    \"video\": tf.train.Feature(int64_list=tf.train.Int64List(value=video)),\n",
    "    \"image\": tf.train.Feature(int64_list=tf.train.Int64List(value=image)),\n",
    "    \"eeg\": tf.train.Feature(int64_list=tf.train.Int64List(value=eeg)),\n",
    "    \"problem_code\": tf.train.Feature(int64_list=tf.train.Int64List(value=[0] * 1)),\n",
    "    \"targets\": tf.train.Feature(int64_list=tf.train.Int64List(value=[0] * 12))\n",
    "}))\n",
    "\n",
    "stub = serving_utils._create_stub(server)\n",
    "\n",
    "servable_name = \"multi-modal-model-ut\"\n",
    "\n",
    "response = _make_grpc_request(examples=[query_example],\n",
    "                              server_stub=stub,\n",
    "                              servable_name=servable_name)\n",
    "\n",
    "response[0][\"outputs\"]\n"
   ]
  },
  {
   "cell_type": "code",
   "execution_count": 24,
   "metadata": {},
   "outputs": [
    {
     "data": {
      "image/png": "[encoded data removed]",
      "text/plain": [
       "<Figure size 432x288 with 1 Axes>"
      ]
     },
     "metadata": {},
     "output_type": "display_data"
    }
   ],
   "source": [
    "# Hmm that looks really similar to the predictions for the query shown above with the model\n",
    "# we trained for only 300 steps\n",
    "plot_overlay(img, response[0][\"outputs\"])\n",
    "\n",
    "_ =\"\"\"\n",
    "array([[ 78.23723  ],\n",
    "       [ 79.40712  ],\n",
    "       [ 78.42296  ],\n",
    "       [ 76.841125 ],\n",
    "       [ 75.04834  ],\n",
    "       [ 76.909515 ],\n",
    "       [ 88.13536  ],\n",
    "       [113.35998  ],\n",
    "       [118.92284  ],\n",
    "       [ 83.472496 ],\n",
    "       [ -2.5511527],\n",
    "       [ -6.1147394]], dtype=float32)\n",
    "\"\"\"\n",
    "# It's possible there's an error with the parsing and/or viz of the landmark coordinates.\n",
    "# Or a jupyter notebook variable re-use side-effect. Or maybe it just doesn't\n",
    "# work well yet."
   ]
  },
  {
   "cell_type": "markdown",
   "metadata": {},
   "source": [
    "Update: One reason for this could be that the deployment of the new (longer-trained) model was not proxied to localhost before the second query was made (i.e. the old model was used)."
   ]
  },
  {
   "cell_type": "markdown",
   "metadata": {},
   "source": [
    "### TPU speed-up\n",
    "\n",
    "The first figure below shows TPU runs (green, blue, grey) running at many-fold greater steps/second than equivalent runs on a K80 GPU with key differentiations being batch size and the source of training examples (local SSD or GCS). TPU runs with batch size of 36 and which pulled examples from GCS are directly comparable. Such a TPU run in this condition is shown in green (top) and a comparable GPU run in red and grey (very bottom), between the two showing about a 6x speed up in training steps/second."
   ]
  },
  {
   "cell_type": "markdown",
   "metadata": {},
   "source": [
    "<img src=\"tboard-one.png\">"
   ]
  },
  {
   "cell_type": "markdown",
   "metadata": {},
   "source": [
    "### Convergence on small dataset\n",
    "\n",
    "Convergence on a small dataset."
   ]
  },
  {
   "cell_type": "markdown",
   "metadata": {},
   "source": [
    "<img src=\"tboard-three.png\">"
   ]
  },
  {
   "cell_type": "markdown",
   "metadata": {},
   "source": [
    "## Datagen for large number of examples, highmem node"
   ]
  },
  {
   "cell_type": "markdown",
   "metadata": {},
   "source": [
    "One easy explanation for why the above did not yeild a model that performed well qualitatively was because it was only provided a very small number of examples. So let's try scaling that up."
   ]
  },
  {
   "cell_type": "code",
   "execution_count": null,
   "metadata": {},
   "outputs": [],
   "source": [
    "\n",
    "from pcml.launcher.experiment import configure_experiment\n",
    "\n",
    "experiment = configure_experiment(\n",
    "  base_name=\"datagen\",\n",
    "  problem=\"multi_modal_imaging_multi_problem_v2\",\n",
    "  model=\"multi_modal_model_ut\",\n",
    "  hparams_set=\"multi_modal_model_tiny_v2\",\n",
    "  num_gpu_per_worker=1,\n",
    "  num_train_steps=1000,\n",
    "  num_eval_steps=30,\n",
    "  local_eval_frequency=10,\n",
    "  trainer_memory=\"7Gi\",\n",
    "  trainer_cpu=4,\n",
    "  extra_hparams={\"batch_size\": 4, \"filter_size\": 512, \"hidden_size\": 256},\n",
    "  app_root=\"/home/jovyan/work/pcml\",\n",
    "  base_image=\"gcr.io/clarify/basic-runtime:0.0.4\",\n",
    "  schedule=\"train\",\n",
    "  data_dir=\"gs://clarify-models-us-central1/experiments/example-scaleup16\",\n",
    "  remote_base=\"gs://clarify-models-us-central1/experiments/example-scaleup16\")\n",
    "\n",
    "experiment.batch_run()\n",
    "\n",
    "# The above is configured to run datagen for the larger example set followed by 1000\n",
    "# training steps to verify the integrity of those vis. use in training.\n",
    "\n",
    "# While that's running we'll try out Katib for hypeparameter tuning\n"
   ]
  },
  {
   "cell_type": "markdown",
   "metadata": {},
   "source": [
    "### Tune"
   ]
  },
  {
   "cell_type": "code",
   "execution_count": 17,
   "metadata": {},
   "outputs": [],
   "source": [
    "import os\n",
    "import tensorflow as tf\n",
    "import rfc3339\n",
    "from datetime import datetime\n",
    "from pcml.launcher.experiment import configure_experiment\n",
    "from pcml.launcher.study import T2TKubeStudy\n",
    "from tensor2tensor.utils import registry"
   ]
  },
  {
   "cell_type": "code",
   "execution_count": 2,
   "metadata": {},
   "outputs": [],
   "source": [
    "@registry.register_ranged_hparams\n",
    "def ut_tune(rhp):\n",
    "  rhp.set_categorical(\"recurrence_type\", [\"act\", \"basic\"])\n",
    "  rhp.set_discrete(\"num_heads\", [4, 8, 16, 32])\n",
    "  rhp.set_discrete(\"filter_size\", [128, 256, 512, 1024, 2048, 4096])\n",
    "  rhp.set_discrete(\"hidden_size\", [128, 256, 512, 1024, 2048, 4096])\n",
    "  rhp.set_discrete(\"batch_size\", [16, 32, 48, 64, 96, 128])"
   ]
  },
  {
   "cell_type": "code",
   "execution_count": 3,
   "metadata": {},
   "outputs": [],
   "source": [
    "experiment = configure_experiment(\n",
    "  base_name=\"tpu_ut_tune_2\",\n",
    "  problem=\"multi_modal_imaging_multi_problem\",\n",
    "  model=\"multi_modal_model_ut\",\n",
    "  hparams_set=\"multi_modal_model_tiny_v2\",\n",
    "  num_gpu_per_worker=0,\n",
    "  num_train_steps=1500,\n",
    "  num_eval_steps=30,\n",
    "  local_eval_frequency=10,\n",
    "  trainer_memory=\"7Gi\",\n",
    "  trainer_cpu=4,\n",
    "  extra_hparams={},\n",
    "  app_root=\"/home/jovyan/work/pcml\",\n",
    "  base_image=\"tensorflow/tensorflow:1.13.1-py3\",\n",
    "  schedule=\"train\",\n",
    "  data_dir=\"gs://clarify-models-us-central1/experiments/example-scaleup5\",\n",
    "  remote_base=\"gs://clarify-models-us-central1/experiments/example-scaleup5\",\n",
    "  use_tpu=True,\n",
    "  num_tpu_cores=8,\n",
    "  tpu_tf_version=\"1.13\",\n",
    "  selector_labels={\"type\": \"tpu-host\"},\n",
    "  use_katib=True)"
   ]
  },
  {
   "cell_type": "code",
   "execution_count": 4,
   "metadata": {},
   "outputs": [],
   "source": [
    "\n",
    "study = T2TKubeStudy(study_name=\"mmimp-ut-tune-tpu-2\",\n",
    "                     experiment=experiment,\n",
    "                     metrics_names=[\"loss\"],\n",
    "                     optimization_type=\"minimize\",\n",
    "                     suggestion_request_number=3,\n",
    "                     study_ranged_hparams=\"ut_tune\")\n"
   ]
  },
  {
   "cell_type": "code",
   "execution_count": 5,
   "metadata": {},
   "outputs": [],
   "source": [
    "\n",
    "response, _ = study.create()\n"
   ]
  },
  {
   "cell_type": "code",
   "execution_count": 18,
   "metadata": {},
   "outputs": [
    {
     "data": {
      "text/plain": [
       "{'gs://clarify-models-us-central1/experiments/example-scaleup5/tpu-ut-tune-2-j0328-0121-08f3/y9af189aeb332577/events.out.tfevents.1553736618.y9af189aeb332577-master-0': [('loss',\n",
       "   '2019-03-28T01:36:50+00:00',\n",
       "   '377.18939208984375'),\n",
       "  ('global_step/sec', '2019-03-28T01:38:03+00:00', '1.384399652481079'),\n",
       "  ('examples/sec', '2019-03-28T01:38:03+00:00', '1063.218994140625'),\n",
       "  ('global_step/sec', '2019-03-28T01:38:45+00:00', '2.367875576019287'),\n",
       "  ('examples/sec', '2019-03-28T01:38:45+00:00', '1818.5284423828125'),\n",
       "  ('loss', '2019-03-28T01:39:26+00:00', '23.636184692382812'),\n",
       "  ('global_step/sec', '2019-03-28T01:39:27+00:00', '2.383009433746338'),\n",
       "  ('examples/sec', '2019-03-28T01:39:27+00:00', '1830.1513671875'),\n",
       "  ('global_step/sec', '2019-03-28T01:40:08+00:00', '2.4665639400482178'),\n",
       "  ('examples/sec', '2019-03-28T01:40:08+00:00', '1894.321044921875'),\n",
       "  ('global_step/sec', '2019-03-28T01:40:48+00:00', '2.495474100112915'),\n",
       "  ('examples/sec', '2019-03-28T01:40:48+00:00', '1916.5240478515625'),\n",
       "  ('loss', '2019-03-28T01:41:28+00:00', '19.017288208007812'),\n",
       "  ('global_step/sec', '2019-03-28T01:41:29+00:00', '2.4478135108947754'),\n",
       "  ('examples/sec', '2019-03-28T01:41:29+00:00', '1879.9207763671875'),\n",
       "  ('global_step/sec', '2019-03-28T01:42:06+00:00', '2.6705129146575928'),\n",
       "  ('examples/sec', '2019-03-28T01:42:06+00:00', '2050.953857421875'),\n",
       "  ('global_step/sec', '2019-03-28T01:42:38+00:00', '3.1313016414642334'),\n",
       "  ('examples/sec', '2019-03-28T01:42:38+00:00', '2404.839599609375'),\n",
       "  ('loss', '2019-03-28T01:43:12+00:00', '22.843416213989258'),\n",
       "  ('global_step/sec', '2019-03-28T01:43:12+00:00', '2.9095215797424316'),\n",
       "  ('examples/sec', '2019-03-28T01:43:12+00:00', '2234.512451171875'),\n",
       "  ('global_step/sec', '2019-03-28T01:43:43+00:00', '3.2849390506744385')]}"
      ]
     },
     "execution_count": 18,
     "metadata": {},
     "output_type": "execute_result"
    }
   ],
   "source": [
    "worker_id = \"y9af189aeb332577\"\n",
    "log_dir = \"%s/%s\" % (experiment._remote_app_root, worker_id)\n",
    "efm = get_metrics_from_logdir(log_dir)\n",
    "efm"
   ]
  },
  {
   "cell_type": "markdown",
   "metadata": {},
   "source": [
    "With that change the metrics now show up in the Katib UI"
   ]
  },
  {
   "cell_type": "markdown",
   "metadata": {},
   "source": [
    "<img src=\"katib-eg.png\">"
   ]
  },
  {
   "cell_type": "code",
   "execution_count": 20,
   "metadata": {},
   "outputs": [
    {
     "name": "stdout",
     "output_type": "stream",
     "text": [
      "INFO:tensorflow:gs://clarify-models-us-central1/experiments/example-scaleup5/tpu-ut-tune-2-j0328-0121-08f3/y9af189aeb332577/events.out.tfevents.1553736618.y9af189aeb332577-master-0 will be parsed.\n"
     ]
    },
    {
     "name": "stderr",
     "output_type": "stream",
     "text": [
      "I0328 01:51:46.625797 140373166466880 metrics_collector.py:112] gs://clarify-models-us-central1/experiments/example-scaleup5/tpu-ut-tune-2-j0328-0121-08f3/y9af189aeb332577/events.out.tfevents.1553736618.y9af189aeb332577-master-0 will be parsed.\n"
     ]
    }
   ],
   "source": [
    "\n",
    "from metrics_collector import MetricsCollector\n",
    "\n",
    "log_dir_base = experiment._remote_app_root\n",
    "worker_id = \"y9af189aeb332577\"\n",
    "log_dir = \"%s/%s\" % (log_dir_base, worker_id)\n",
    "\n",
    "mc = MetricsCollector(manager_addr=\"vizier-core\",\n",
    "                      manager_port=6789,\n",
    "                      study_id=\"qd67458597ff0d3b\",\n",
    "                      worker_id=worker_id,\n",
    "                      log_dir=log_dir)\n",
    "\n",
    "mlset = mc.run(report=False)"
   ]
  },
  {
   "cell_type": "code",
   "execution_count": 21,
   "metadata": {},
   "outputs": [
    {
     "data": {
      "text/plain": [
       "worker_id: \"y9af189aeb332577\"\n",
       "metrics_logs {\n",
       "  name: \"loss\"\n",
       "  values {\n",
       "    time: \"2019-03-28T01:36:50+00:00\"\n",
       "    value: \"377.18939208984375\"\n",
       "  }\n",
       "  values {\n",
       "    time: \"2019-03-28T01:39:26+00:00\"\n",
       "    value: \"23.636184692382812\"\n",
       "  }\n",
       "  values {\n",
       "    time: \"2019-03-28T01:41:28+00:00\"\n",
       "    value: \"19.017288208007812\"\n",
       "  }\n",
       "  values {\n",
       "    time: \"2019-03-28T01:43:12+00:00\"\n",
       "    value: \"22.843416213989258\"\n",
       "  }\n",
       "  values {\n",
       "    time: \"2019-03-28T01:44:50+00:00\"\n",
       "    value: \"13.260372161865234\"\n",
       "  }\n",
       "}"
      ]
     },
     "execution_count": 21,
     "metadata": {},
     "output_type": "execute_result"
    }
   ],
   "source": [
    "mlset"
   ]
  },
  {
   "cell_type": "markdown",
   "metadata": {},
   "source": [
    "### Profile a TPU run"
   ]
  },
  {
   "cell_type": "code",
   "execution_count": null,
   "metadata": {},
   "outputs": [],
   "source": [
    "\n",
    "# Start a TPU run to profile\n",
    "\n",
    "from pcml.launcher.experiment import configure_experiment\n",
    "\n",
    "experiment = configure_experiment(\n",
    "  base_name=\"tpu_profiler_exp2\",\n",
    "  problem=\"multi_modal_imaging_multi_problem\",\n",
    "  model=\"multi_modal_model_ut\",\n",
    "  hparams_set=\"multi_modal_model_tiny_v2\",\n",
    "  num_gpu_per_worker=0,\n",
    "  num_train_steps=1000000,\n",
    "  num_eval_steps=30,\n",
    "  local_eval_frequency=10,\n",
    "  trainer_memory=\"7Gi\",\n",
    "  trainer_cpu=4,\n",
    "  extra_hparams={},\n",
    "  app_root=\"/home/jovyan/work/pcml\",\n",
    "  base_image=\"tensorflow/tensorflow:1.13.1-py3\",\n",
    "  schedule=\"train\",\n",
    "  data_dir=\"gs://clarify-models-us-central1/experiments/example-scaleup5\",\n",
    "  remote_base=\"gs://clarify-models-us-central1/experiments/example-scaleup5\",\n",
    "  use_tpu=True,\n",
    "  num_tpu_cores=8,\n",
    "  tpu_tf_version=\"1.13\",\n",
    "  selector_labels={})\n",
    "\n",
    "experiment.batch_run()\n"
   ]
  },
  {
   "cell_type": "code",
   "execution_count": 7,
   "metadata": {},
   "outputs": [
    {
     "name": "stdout",
     "output_type": "stream",
     "text": [
      "TensorFlow version 1.13.1 detected\n",
      "\n",
      "WARNING: The TensorFlow contrib module will not be included in TensorFlow 2.0.\n",
      "For more information, please see:\n",
      "  * https://github.com/tensorflow/community/blob/master/rfcs/20180907-contrib-sunset.md\n",
      "  * https://github.com/tensorflow/addons\n",
      "If you depend on functionality not listed there, please file an issue.\n",
      "\n",
      "Welcome to the Cloud TPU Profiler v1.13.0\n",
      "Starting to profile TPU traces for 2000 ms. Remaining attempt(s): 3\n",
      "Profile session succeed for host(s):10.72.18.226\n"
     ]
    }
   ],
   "source": [
    "#pip install --upgrade \"cloud-tpu-profiler>=1.12\"\n",
    "#pip install --upgrade \"tensorboard>=1.13\"\n",
    "!export PATH=\"$PATH:`python -m site --user-base`/bin\" && capture_tpu_profile --tpu=gke-clarify-856b76f6-tpu-bfaa6182 \\\n",
    "--logdir=gs://clarify-models-us-central1/experiments/example-scaleup5/tpu-profiler-exp2-j0403-0022-db8a/output/"
   ]
  },
  {
   "cell_type": "code",
   "execution_count": null,
   "metadata": {},
   "outputs": [],
   "source": [
    "\n",
    "# Running the above will allow you to access the Profiling tab in TensorBoard\n",
    "# For me this revealed a lot of time (at training time) is being spent on shuffling\n",
    "# examples. Ideally instead we'd like to pre-compute a shuffling of examples and just\n",
    "# stream them at training time.\n",
    "\n",
    "# Looks like going forward we need a faster input pipeline\n"
   ]
  }
 ],
 "metadata": {
  "kernelspec": {
   "display_name": "Python 3",
   "language": "python",
   "name": "python3"
  },
  "language_info": {
   "codemirror_mode": {
    "name": "ipython",
    "version": 3
   },
   "file_extension": ".py",
   "mimetype": "text/x-python",
   "name": "python",
   "nbconvert_exporter": "python",
   "pygments_lexer": "ipython3",
   "version": "3.6.7"
  }
 },
 "nbformat": 4,
 "nbformat_minor": 2
}
